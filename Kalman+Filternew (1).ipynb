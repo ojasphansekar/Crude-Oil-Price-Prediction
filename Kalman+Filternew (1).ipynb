{
 "cells": [
  {
   "cell_type": "code",
   "execution_count": 121,
   "metadata": {
    "collapsed": true
   },
   "outputs": [],
   "source": [
    "import numpy as np\n",
    "import scipy.optimize as optimize\n",
    "import scipy as sc\n",
    "import math as math\n",
    "import pandas as pd\n",
    "import matplotlib.pyplot as plt\n",
    "import datetime\n",
    "from dateutil.parser import parse\n",
    "import matplotlib.pyplot as plt\n",
    "import matplotlib.dates as mdates\n",
    "%matplotlib inline\n",
    "import seaborn as sns"
   ]
  },
  {
   "cell_type": "code",
   "execution_count": 122,
   "metadata": {
    "collapsed": true
   },
   "outputs": [],
   "source": [
    "# Main \n",
    "\"\"\"\n",
    "@ Params:\n",
    "    R: a list of stock price\n",
    "    k: number of latent components\n",
    "@ Return:\n",
    "    price_tplus1\n",
    "    u_tplus1\n",
    "    u_smooth\n",
    "\"\"\"\n",
    "def KalmanFilterForecast(R, k):\n",
    "    r = 0.25*np.log(np.var(R,axis = 0,ddof=1))\n",
    "    if k == 1:\n",
    "        param0 = np.append(np.append(np.append(np.array(100),r,),100),r)\n",
    "        \n",
    "    if k == 2:\n",
    "        param0 = np.append(np.append(np.append(np.array([100,100]),4*r),[-100,-100]),[r,r])\n",
    "    def objective(params):\n",
    "        Likelihood,_ = KalmanFilter(R,k,params)\n",
    "        return Likelihood\n",
    "    params_star = optimize.fmin(objective,param0)\n",
    "    print(params_star)\n",
    "    #params_star = optimize.minimize(objective,param0,method='CG')\n",
    "    #params_star = params_star.values()[5]\n",
    "    #print(params_star)\n",
    "    u_smooth = KalmanSmoother(R, k, params_star)\n",
    "#     Z = np.array(params_star[0])\n",
    "#     H = np.exp(params_star[1]);\n",
    "#     T = np.array(params_star[2])\n",
    "#     Q = np.exp(params_star[3]);\n",
    "    Z = 2/(1+np.exp(-params_star[0]))-1;\n",
    "    H = np.exp(params_star[1]);\n",
    "    T = 2/(1+np.exp(-params_star[2]))-1;\n",
    "    Q = np.exp(params_star[3]);\n",
    "      \n",
    "    u_tplus1 = T*u_smooth[-1] + np.random.normal()*np.sqrt(Q)\n",
    "    price_tplus1 = Z*u_tplus1 + np.random.normal()*np.sqrt(H)\n",
    "    print('T*u_smooth[-1] is {}; Z*u_tplus1 is {}'.format(T*u_smooth[-1],Z*u_tplus1))\n",
    "    Dev_Q = np.random.normal()*np.sqrt(Q)\n",
    "    Dev_H = np.random.normal()*np.sqrt(H)\n",
    "    return price_tplus1,u_tplus1,u_smooth,params_star,T,Z,Dev_Q,Dev_H"
   ]
  },
  {
   "cell_type": "code",
   "execution_count": 123,
   "metadata": {
    "collapsed": false
   },
   "outputs": [],
   "source": [
    "def KalmanFilter(R,k,params):\n",
    "    S_length = R.shape[0]\n",
    "    S = S_length+1\n",
    "    if k == 1:\n",
    "#         Z = np.array(params[0])\n",
    "#         H = np.array(np.exp(params[1]))\n",
    "#         T = np.array(params[2])\n",
    "#         Q = np.array(np.exp(params[3]))\n",
    "        Z = np.array(2/(1+np.exp(-params[0]))-1)\n",
    "        H = np.array(np.exp(params[1]))\n",
    "        T = np.array(2/(1+np.exp(-params[2]))-1)\n",
    "        Q = np.array(np.exp(params[3]))\n",
    "    if k == 2:\n",
    "        Z = np.array([[2/(1+np.exp(-params[0]))-1,2/(1+np.exp(-params[1]))-1]])\n",
    "        H = np.array(np.exp(params[2]))\n",
    "        T = np.array([[2/(1+np.exp(-params[3]))-1,0],[0,2/(1+np.exp(-params[4]))-1]])\n",
    "        Q = np.array([[np.exp(params[5]),0],[0,np.exp(params[6])]])\n",
    "    u_predict = np.zeros((k,S));\n",
    "    u_update = np.zeros((k,S));\n",
    "    P_predict = np.zeros((k,k,S));\n",
    "    P_update = np.zeros((k,k,S));\n",
    "    v = np.zeros((1,S));\n",
    "    F = np.zeros((1,S));\n",
    "    KF_Dens = np.zeros((1,S));\n",
    "    for i in range(S):\n",
    "        if i == 0:\n",
    "            P_update[:,:,i] = 1000*np.eye(k)\n",
    "            P_predict[:,:,i] = T.dot(np.array(P_update[0][0][0]).dot(T.T))+Q\n",
    "        else:\n",
    "            F[0][i] = Z.dot(P_predict[:,:,i-1].dot(Z.T))+H\n",
    "            v[0][i] = R.T.flatten()[i-1]-Z.dot(u_predict[:,i-1])\n",
    "            u_update[:,i] = u_predict[:,i-1]+P_predict[:,:,i-1].dot(Z.T.dot(np.linalg.inv([[F[0][i]]]).dot(v[0][i]))).flatten()\n",
    "            u_predict[:,i] = T.dot(u_update[:,i])\n",
    "            P_update[:,:,i] = P_predict[:,:,i-1]-P_predict[:,:,i-1].dot(Z.T.dot(np.linalg.inv([[F[0][i]]]).dot(Z.dot(P_predict[:,:,i-1]))))\n",
    "            P_predict[:,:,i] = T.dot(P_update[:,:,i]).dot(T.T)+Q\n",
    "            KF_Dens[0][i] = (1.0/2)*np.log(2*np.pi)+(1.0/2)*np.log(np.abs(F[0][i]))+(1.0/2)+v[0][i].T*np.linalg.inv([[F[0][i]]])*v[0][i]\n",
    "    Likelihood = np.sum(KF_Dens)-KF_Dens[0][0]\n",
    "    varargout = [u_update, P_update, P_predict, T]\n",
    "    return Likelihood, varargout"
   ]
  },
  {
   "cell_type": "code",
   "execution_count": 124,
   "metadata": {
    "collapsed": true
   },
   "outputs": [],
   "source": [
    "def KalmanSmoother(R,k,params_star):\n",
    "    _,vararg = KalmanFilter(R,k,params_star)\n",
    "    u_update = vararg[0]\n",
    "    P_update = vararg[1]\n",
    "    P_predict = vararg[2]\n",
    "    T = np.array(vararg[3])\n",
    "    S = R.shape[0]+1\n",
    "    u_smooth = np.zeros((k,S))\n",
    "    P_smooth = np.zeros((k,k,S))\n",
    "    u_smooth[:,S-1] = u_update[:,S-1]\n",
    "    P_smooth[:,:,S-1] = P_update[:,:,S-1]    \n",
    "    for t in reversed(range(1,S)): # 2 to S inverse sequence\n",
    "        u_smooth[:,t-1] = u_update[:,t] + P_update[:,:,t].dot(T.T.dot(np.linalg.inv(P_predict[:,:,t]).dot((u_smooth[:,t]-T.dot(u_update[:,t])))))\n",
    "        P_smooth[:,:,t-1] = P_update[:,:,t] + P_update[:,:,t].dot(T.T).dot(np.linalg.inv(P_predict[:,:,t])).dot((P_smooth[:,:,t]-P_predict[:,:,t])).dot(np.linalg.inv(P_predict[:,:,t])).dot(T).dot(P_update[:,:,t])\n",
    "    u_smooth = u_smooth.flatten()[1:]\n",
    "    return u_smooth"
   ]
  },
  {
   "cell_type": "code",
   "execution_count": 134,
   "metadata": {
    "collapsed": false
   },
   "outputs": [
    {
     "data": {
      "text/html": [
       "<div>\n",
       "<table border=\"1\" class=\"dataframe\">\n",
       "  <thead>\n",
       "    <tr style=\"text-align: right;\">\n",
       "      <th></th>\n",
       "      <th>observation_date</th>\n",
       "      <th>CRUDEOIL</th>\n",
       "    </tr>\n",
       "  </thead>\n",
       "  <tbody>\n",
       "    <tr>\n",
       "      <th>0</th>\n",
       "      <td>2014-12-31</td>\n",
       "      <td>55.27</td>\n",
       "    </tr>\n",
       "    <tr>\n",
       "      <th>1</th>\n",
       "      <td>2014-12-30</td>\n",
       "      <td>55.60</td>\n",
       "    </tr>\n",
       "    <tr>\n",
       "      <th>2</th>\n",
       "      <td>2014-12-29</td>\n",
       "      <td>57.86</td>\n",
       "    </tr>\n",
       "    <tr>\n",
       "      <th>3</th>\n",
       "      <td>2014-12-26</td>\n",
       "      <td>58.72</td>\n",
       "    </tr>\n",
       "    <tr>\n",
       "      <th>4</th>\n",
       "      <td>2014-12-24</td>\n",
       "      <td>58.67</td>\n",
       "    </tr>\n",
       "    <tr>\n",
       "      <th>5</th>\n",
       "      <td>2014-12-23</td>\n",
       "      <td>59.07</td>\n",
       "    </tr>\n",
       "    <tr>\n",
       "      <th>6</th>\n",
       "      <td>2014-12-22</td>\n",
       "      <td>58.31</td>\n",
       "    </tr>\n",
       "    <tr>\n",
       "      <th>7</th>\n",
       "      <td>2014-12-19</td>\n",
       "      <td>58.87</td>\n",
       "    </tr>\n",
       "    <tr>\n",
       "      <th>8</th>\n",
       "      <td>2014-12-18</td>\n",
       "      <td>58.81</td>\n",
       "    </tr>\n",
       "    <tr>\n",
       "      <th>9</th>\n",
       "      <td>2014-12-17</td>\n",
       "      <td>59.84</td>\n",
       "    </tr>\n",
       "  </tbody>\n",
       "</table>\n",
       "</div>"
      ],
      "text/plain": [
       "  observation_date  CRUDEOIL\n",
       "0       2014-12-31     55.27\n",
       "1       2014-12-30     55.60\n",
       "2       2014-12-29     57.86\n",
       "3       2014-12-26     58.72\n",
       "4       2014-12-24     58.67\n",
       "5       2014-12-23     59.07\n",
       "6       2014-12-22     58.31\n",
       "7       2014-12-19     58.87\n",
       "8       2014-12-18     58.81\n",
       "9       2014-12-17     59.84"
      ]
     },
     "execution_count": 134,
     "metadata": {},
     "output_type": "execute_result"
    }
   ],
   "source": [
    "data = pd.read_csv('CrudeData.csv')\n",
    "data.head(10)\n",
    "# data=data.dropna()\n",
    "# R=data[\"CRUDEOIL\"].values\n",
    "# #R=np.matrix(R)\n",
    "# k=1\n",
    "# R"
   ]
  },
  {
   "cell_type": "code",
   "execution_count": 135,
   "metadata": {
    "collapsed": false
   },
   "outputs": [
    {
     "name": "stdout",
     "output_type": "stream",
     "text": [
      "Optimization terminated successfully.\n",
      "         Current function value: 4773.733795\n",
      "         Iterations: 188\n",
      "         Function evaluations: 384\n",
      "[321.52878749 -30.4578281  783.36356028   1.25624601]\n",
      "T*u_smooth[-1] is 110.96000000000005; Z*u_tplus1 is 113.67622909008126\n"
     ]
    }
   ],
   "source": [
    "price_tplus1,u_tplus1,u_smooth,params_star,T,Z,Dev_Q,Dev_H = KalmanFilterForecast(R, k)\n",
    "#KalmanFilterForecast(R, k)"
   ]
  },
  {
   "cell_type": "code",
   "execution_count": 136,
   "metadata": {
    "collapsed": false
   },
   "outputs": [
    {
     "data": {
      "text/plain": [
       "113.67622895659974"
      ]
     },
     "execution_count": 136,
     "metadata": {},
     "output_type": "execute_result"
    }
   ],
   "source": [
    "price_tplus1"
   ]
  },
  {
   "cell_type": "code",
   "execution_count": 94,
   "metadata": {
    "collapsed": false
   },
   "outputs": [
    {
     "data": {
      "text/plain": [
       "[2.34, 3.41, 4.12, 5.22]"
      ]
     },
     "execution_count": 94,
     "metadata": {},
     "output_type": "execute_result"
    }
   ],
   "source": [
    "params_star"
   ]
  },
  {
   "cell_type": "code",
   "execution_count": 65,
   "metadata": {
    "collapsed": false
   },
   "outputs": [
    {
     "data": {
      "text/plain": [
       "array(['2018-09-10', '2018-09-07', '2018-09-06', ..., '2011-03-18',\n",
       "       '2011-03-17', '2011-03-16'], dtype=object)"
      ]
     },
     "execution_count": 65,
     "metadata": {},
     "output_type": "execute_result"
    }
   ],
   "source": [
    "Keval=data[\"observation_date\"].values\n",
    "Keval"
   ]
  },
  {
   "cell_type": "code",
   "execution_count": 66,
   "metadata": {
    "collapsed": false
   },
   "outputs": [],
   "source": [
    "date1 = datetime.date(2019,1,1)\n",
    "date2 = datetime.date(2019,2,25)"
   ]
  },
  {
   "cell_type": "code",
   "execution_count": null,
   "metadata": {
    "collapsed": true
   },
   "outputs": [],
   "source": []
  },
  {
   "cell_type": "code",
   "execution_count": null,
   "metadata": {
    "collapsed": true
   },
   "outputs": [],
   "source": []
  },
  {
   "cell_type": "code",
   "execution_count": 68,
   "metadata": {
    "collapsed": false
   },
   "outputs": [
    {
     "name": "stdout",
     "output_type": "stream",
     "text": [
      "188.2573907183009\n",
      "189.60656090077424\n",
      "190.95573108324757\n",
      "192.3049012657209\n",
      "193.65407144819423\n",
      "195.00324163066756\n",
      "196.3524118131409\n",
      "197.70158199561422\n",
      "199.05075217808755\n",
      "200.39992236056088\n",
      "201.7490925430342\n",
      "203.09826272550754\n",
      "204.44743290798087\n",
      "205.7966030904542\n",
      "207.14577327292753\n",
      "208.49494345540086\n",
      "209.8441136378742\n",
      "211.19328382034752\n",
      "212.54245400282085\n",
      "213.89162418529418\n",
      "215.2407943677675\n",
      "216.58996455024084\n",
      "217.93913473271417\n",
      "219.2883049151875\n",
      "220.63747509766083\n",
      "221.98664528013416\n",
      "223.33581546260748\n",
      "224.68498564508081\n",
      "226.03415582755414\n",
      "227.38332601002747\n",
      "228.7324961925008\n",
      "230.08166637497413\n",
      "231.43083655744746\n",
      "232.7800067399208\n",
      "234.12917692239412\n",
      "235.47834710486745\n",
      "236.82751728734078\n",
      "238.1766874698141\n",
      "239.52585765228744\n",
      "240.87502783476077\n",
      "242.2241980172341\n",
      "243.57336819970743\n",
      "244.92253838218076\n",
      "246.2717085646541\n",
      "247.62087874712742\n",
      "248.97004892960075\n",
      "250.31921911207408\n",
      "251.6683892945474\n",
      "253.01755947702074\n",
      "254.36672965949407\n",
      "255.7158998419674\n",
      "257.0650700244407\n",
      "258.414240206914\n",
      "259.7634103893873\n",
      "261.1125805718606\n",
      "262.4617507543339\n"
     ]
    }
   ],
   "source": [
    "for i in range((date2 - date1).days + 1):    \n",
    "    atplus1 = T*u_tplus1 + Dev_Q\n",
    "    ytplus = Z*atplus1 + Dev_H    \n",
    "    u_tplus1 = atplus1          \n",
    "    #print(date1+1)\n",
    "    #print(u_tplus1)\n",
    "    print(ytplus)\n",
    "    \n",
    "    \n",
    "    "
   ]
  },
  {
   "cell_type": "code",
   "execution_count": 70,
   "metadata": {
    "collapsed": true
   },
   "outputs": [],
   "source": [
    "predData=pd.read_csv('PredictedCrudePrice.csv')"
   ]
  },
  {
   "cell_type": "code",
   "execution_count": 71,
   "metadata": {
    "collapsed": false
   },
   "outputs": [
    {
     "data": {
      "text/html": [
       "<div>\n",
       "<table border=\"1\" class=\"dataframe\">\n",
       "  <thead>\n",
       "    <tr style=\"text-align: right;\">\n",
       "      <th></th>\n",
       "      <th>observation_date</th>\n",
       "      <th>PredictedPrice</th>\n",
       "    </tr>\n",
       "  </thead>\n",
       "  <tbody>\n",
       "    <tr>\n",
       "      <th>0</th>\n",
       "      <td>2019-01-01</td>\n",
       "      <td>188.257391</td>\n",
       "    </tr>\n",
       "    <tr>\n",
       "      <th>1</th>\n",
       "      <td>2019-01-02</td>\n",
       "      <td>189.606561</td>\n",
       "    </tr>\n",
       "    <tr>\n",
       "      <th>2</th>\n",
       "      <td>2019-01-03</td>\n",
       "      <td>190.955731</td>\n",
       "    </tr>\n",
       "    <tr>\n",
       "      <th>3</th>\n",
       "      <td>2019-01-04</td>\n",
       "      <td>192.304901</td>\n",
       "    </tr>\n",
       "    <tr>\n",
       "      <th>4</th>\n",
       "      <td>2019-01-05</td>\n",
       "      <td>193.654071</td>\n",
       "    </tr>\n",
       "    <tr>\n",
       "      <th>5</th>\n",
       "      <td>2019-01-06</td>\n",
       "      <td>195.003242</td>\n",
       "    </tr>\n",
       "    <tr>\n",
       "      <th>6</th>\n",
       "      <td>2019-01-07</td>\n",
       "      <td>196.352412</td>\n",
       "    </tr>\n",
       "    <tr>\n",
       "      <th>7</th>\n",
       "      <td>2019-01-08</td>\n",
       "      <td>197.701582</td>\n",
       "    </tr>\n",
       "    <tr>\n",
       "      <th>8</th>\n",
       "      <td>2019-01-09</td>\n",
       "      <td>199.050752</td>\n",
       "    </tr>\n",
       "    <tr>\n",
       "      <th>9</th>\n",
       "      <td>2019-01-10</td>\n",
       "      <td>200.399922</td>\n",
       "    </tr>\n",
       "    <tr>\n",
       "      <th>10</th>\n",
       "      <td>2019-01-11</td>\n",
       "      <td>201.749093</td>\n",
       "    </tr>\n",
       "    <tr>\n",
       "      <th>11</th>\n",
       "      <td>2019-01-12</td>\n",
       "      <td>203.098263</td>\n",
       "    </tr>\n",
       "    <tr>\n",
       "      <th>12</th>\n",
       "      <td>2019-01-13</td>\n",
       "      <td>204.447433</td>\n",
       "    </tr>\n",
       "    <tr>\n",
       "      <th>13</th>\n",
       "      <td>2019-01-14</td>\n",
       "      <td>205.796603</td>\n",
       "    </tr>\n",
       "    <tr>\n",
       "      <th>14</th>\n",
       "      <td>2019-01-15</td>\n",
       "      <td>207.145773</td>\n",
       "    </tr>\n",
       "    <tr>\n",
       "      <th>15</th>\n",
       "      <td>2019-01-16</td>\n",
       "      <td>208.494944</td>\n",
       "    </tr>\n",
       "    <tr>\n",
       "      <th>16</th>\n",
       "      <td>2019-01-17</td>\n",
       "      <td>209.844114</td>\n",
       "    </tr>\n",
       "    <tr>\n",
       "      <th>17</th>\n",
       "      <td>2019-01-18</td>\n",
       "      <td>211.193284</td>\n",
       "    </tr>\n",
       "    <tr>\n",
       "      <th>18</th>\n",
       "      <td>2019-01-19</td>\n",
       "      <td>212.542454</td>\n",
       "    </tr>\n",
       "    <tr>\n",
       "      <th>19</th>\n",
       "      <td>2019-01-20</td>\n",
       "      <td>213.891624</td>\n",
       "    </tr>\n",
       "    <tr>\n",
       "      <th>20</th>\n",
       "      <td>2019-01-21</td>\n",
       "      <td>215.240794</td>\n",
       "    </tr>\n",
       "    <tr>\n",
       "      <th>21</th>\n",
       "      <td>2019-01-22</td>\n",
       "      <td>216.589965</td>\n",
       "    </tr>\n",
       "    <tr>\n",
       "      <th>22</th>\n",
       "      <td>2019-01-23</td>\n",
       "      <td>217.939135</td>\n",
       "    </tr>\n",
       "    <tr>\n",
       "      <th>23</th>\n",
       "      <td>2019-01-24</td>\n",
       "      <td>219.288305</td>\n",
       "    </tr>\n",
       "    <tr>\n",
       "      <th>24</th>\n",
       "      <td>2019-01-25</td>\n",
       "      <td>220.637475</td>\n",
       "    </tr>\n",
       "    <tr>\n",
       "      <th>25</th>\n",
       "      <td>2019-01-26</td>\n",
       "      <td>221.986645</td>\n",
       "    </tr>\n",
       "    <tr>\n",
       "      <th>26</th>\n",
       "      <td>2019-01-27</td>\n",
       "      <td>223.335815</td>\n",
       "    </tr>\n",
       "    <tr>\n",
       "      <th>27</th>\n",
       "      <td>2019-01-28</td>\n",
       "      <td>224.684986</td>\n",
       "    </tr>\n",
       "    <tr>\n",
       "      <th>28</th>\n",
       "      <td>2019-01-29</td>\n",
       "      <td>226.034156</td>\n",
       "    </tr>\n",
       "    <tr>\n",
       "      <th>29</th>\n",
       "      <td>2019-01-30</td>\n",
       "      <td>227.383326</td>\n",
       "    </tr>\n",
       "    <tr>\n",
       "      <th>...</th>\n",
       "      <td>...</td>\n",
       "      <td>...</td>\n",
       "    </tr>\n",
       "    <tr>\n",
       "      <th>335</th>\n",
       "      <td>NaN</td>\n",
       "      <td>NaN</td>\n",
       "    </tr>\n",
       "    <tr>\n",
       "      <th>336</th>\n",
       "      <td>NaN</td>\n",
       "      <td>NaN</td>\n",
       "    </tr>\n",
       "    <tr>\n",
       "      <th>337</th>\n",
       "      <td>NaN</td>\n",
       "      <td>NaN</td>\n",
       "    </tr>\n",
       "    <tr>\n",
       "      <th>338</th>\n",
       "      <td>NaN</td>\n",
       "      <td>NaN</td>\n",
       "    </tr>\n",
       "    <tr>\n",
       "      <th>339</th>\n",
       "      <td>NaN</td>\n",
       "      <td>NaN</td>\n",
       "    </tr>\n",
       "    <tr>\n",
       "      <th>340</th>\n",
       "      <td>NaN</td>\n",
       "      <td>NaN</td>\n",
       "    </tr>\n",
       "    <tr>\n",
       "      <th>341</th>\n",
       "      <td>NaN</td>\n",
       "      <td>NaN</td>\n",
       "    </tr>\n",
       "    <tr>\n",
       "      <th>342</th>\n",
       "      <td>NaN</td>\n",
       "      <td>NaN</td>\n",
       "    </tr>\n",
       "    <tr>\n",
       "      <th>343</th>\n",
       "      <td>NaN</td>\n",
       "      <td>NaN</td>\n",
       "    </tr>\n",
       "    <tr>\n",
       "      <th>344</th>\n",
       "      <td>NaN</td>\n",
       "      <td>NaN</td>\n",
       "    </tr>\n",
       "    <tr>\n",
       "      <th>345</th>\n",
       "      <td>NaN</td>\n",
       "      <td>NaN</td>\n",
       "    </tr>\n",
       "    <tr>\n",
       "      <th>346</th>\n",
       "      <td>NaN</td>\n",
       "      <td>NaN</td>\n",
       "    </tr>\n",
       "    <tr>\n",
       "      <th>347</th>\n",
       "      <td>NaN</td>\n",
       "      <td>NaN</td>\n",
       "    </tr>\n",
       "    <tr>\n",
       "      <th>348</th>\n",
       "      <td>NaN</td>\n",
       "      <td>NaN</td>\n",
       "    </tr>\n",
       "    <tr>\n",
       "      <th>349</th>\n",
       "      <td>NaN</td>\n",
       "      <td>NaN</td>\n",
       "    </tr>\n",
       "    <tr>\n",
       "      <th>350</th>\n",
       "      <td>NaN</td>\n",
       "      <td>NaN</td>\n",
       "    </tr>\n",
       "    <tr>\n",
       "      <th>351</th>\n",
       "      <td>NaN</td>\n",
       "      <td>NaN</td>\n",
       "    </tr>\n",
       "    <tr>\n",
       "      <th>352</th>\n",
       "      <td>NaN</td>\n",
       "      <td>NaN</td>\n",
       "    </tr>\n",
       "    <tr>\n",
       "      <th>353</th>\n",
       "      <td>NaN</td>\n",
       "      <td>NaN</td>\n",
       "    </tr>\n",
       "    <tr>\n",
       "      <th>354</th>\n",
       "      <td>NaN</td>\n",
       "      <td>NaN</td>\n",
       "    </tr>\n",
       "    <tr>\n",
       "      <th>355</th>\n",
       "      <td>NaN</td>\n",
       "      <td>NaN</td>\n",
       "    </tr>\n",
       "    <tr>\n",
       "      <th>356</th>\n",
       "      <td>NaN</td>\n",
       "      <td>NaN</td>\n",
       "    </tr>\n",
       "    <tr>\n",
       "      <th>357</th>\n",
       "      <td>NaN</td>\n",
       "      <td>NaN</td>\n",
       "    </tr>\n",
       "    <tr>\n",
       "      <th>358</th>\n",
       "      <td>NaN</td>\n",
       "      <td>NaN</td>\n",
       "    </tr>\n",
       "    <tr>\n",
       "      <th>359</th>\n",
       "      <td>NaN</td>\n",
       "      <td>NaN</td>\n",
       "    </tr>\n",
       "    <tr>\n",
       "      <th>360</th>\n",
       "      <td>NaN</td>\n",
       "      <td>NaN</td>\n",
       "    </tr>\n",
       "    <tr>\n",
       "      <th>361</th>\n",
       "      <td>NaN</td>\n",
       "      <td>NaN</td>\n",
       "    </tr>\n",
       "    <tr>\n",
       "      <th>362</th>\n",
       "      <td>NaN</td>\n",
       "      <td>NaN</td>\n",
       "    </tr>\n",
       "    <tr>\n",
       "      <th>363</th>\n",
       "      <td>NaN</td>\n",
       "      <td>NaN</td>\n",
       "    </tr>\n",
       "    <tr>\n",
       "      <th>364</th>\n",
       "      <td>NaN</td>\n",
       "      <td>NaN</td>\n",
       "    </tr>\n",
       "  </tbody>\n",
       "</table>\n",
       "<p>365 rows × 2 columns</p>\n",
       "</div>"
      ],
      "text/plain": [
       "    observation_date  PredictedPrice\n",
       "0         2019-01-01      188.257391\n",
       "1         2019-01-02      189.606561\n",
       "2         2019-01-03      190.955731\n",
       "3         2019-01-04      192.304901\n",
       "4         2019-01-05      193.654071\n",
       "5         2019-01-06      195.003242\n",
       "6         2019-01-07      196.352412\n",
       "7         2019-01-08      197.701582\n",
       "8         2019-01-09      199.050752\n",
       "9         2019-01-10      200.399922\n",
       "10        2019-01-11      201.749093\n",
       "11        2019-01-12      203.098263\n",
       "12        2019-01-13      204.447433\n",
       "13        2019-01-14      205.796603\n",
       "14        2019-01-15      207.145773\n",
       "15        2019-01-16      208.494944\n",
       "16        2019-01-17      209.844114\n",
       "17        2019-01-18      211.193284\n",
       "18        2019-01-19      212.542454\n",
       "19        2019-01-20      213.891624\n",
       "20        2019-01-21      215.240794\n",
       "21        2019-01-22      216.589965\n",
       "22        2019-01-23      217.939135\n",
       "23        2019-01-24      219.288305\n",
       "24        2019-01-25      220.637475\n",
       "25        2019-01-26      221.986645\n",
       "26        2019-01-27      223.335815\n",
       "27        2019-01-28      224.684986\n",
       "28        2019-01-29      226.034156\n",
       "29        2019-01-30      227.383326\n",
       "..               ...             ...\n",
       "335              NaN             NaN\n",
       "336              NaN             NaN\n",
       "337              NaN             NaN\n",
       "338              NaN             NaN\n",
       "339              NaN             NaN\n",
       "340              NaN             NaN\n",
       "341              NaN             NaN\n",
       "342              NaN             NaN\n",
       "343              NaN             NaN\n",
       "344              NaN             NaN\n",
       "345              NaN             NaN\n",
       "346              NaN             NaN\n",
       "347              NaN             NaN\n",
       "348              NaN             NaN\n",
       "349              NaN             NaN\n",
       "350              NaN             NaN\n",
       "351              NaN             NaN\n",
       "352              NaN             NaN\n",
       "353              NaN             NaN\n",
       "354              NaN             NaN\n",
       "355              NaN             NaN\n",
       "356              NaN             NaN\n",
       "357              NaN             NaN\n",
       "358              NaN             NaN\n",
       "359              NaN             NaN\n",
       "360              NaN             NaN\n",
       "361              NaN             NaN\n",
       "362              NaN             NaN\n",
       "363              NaN             NaN\n",
       "364              NaN             NaN\n",
       "\n",
       "[365 rows x 2 columns]"
      ]
     },
     "execution_count": 71,
     "metadata": {},
     "output_type": "execute_result"
    }
   ],
   "source": [
    "predData"
   ]
  },
  {
   "cell_type": "code",
   "execution_count": 73,
   "metadata": {
    "collapsed": false
   },
   "outputs": [
    {
     "data": {
      "text/plain": [
       "<matplotlib.text.Text at 0x28c0f23f748>"
      ]
     },
     "execution_count": 73,
     "metadata": {},
     "output_type": "execute_result"
    },
    {
     "data": {
      "image/png": "[encoded data removed]",
      "text/plain": [
       "<matplotlib.figure.Figure at 0x28c0ff53320>"
      ]
     },
     "metadata": {},
     "output_type": "display_data"
    }
   ],
   "source": [
    "data = pd.read_csv('CrudeData.csv')\n",
    "import datetime\n",
    "sns.set(style='darkgrid', context='talk', palette='Dark2') # Setting the style of the plots.\n",
    "my_year_month_fmt = mdates.DateFormatter('%y/%m/%d')\n",
    "data['observation_date'] = pd.to_datetime(data['observation_date'])\n",
    "data.index = data['observation_date']\n",
    "del data['observation_date']\n",
    "\n",
    "start_date = '2018-12-10'\n",
    "#end_date = '2018-01-10'\n",
    "end_date = '2011-03-16'\n",
    "\n",
    "fig, ax = plt.subplots(figsize=(17,10)) # Setting the size of the plot.\n",
    "\n",
    "\n",
    "#ax.plot(data.loc[start_date:end_date, :].index, data.loc[start_date:end_date, 'SP500'], label='SP500', color = 'green')\n",
    "ax.plot(data.loc[start_date:end_date, :].index, data.loc[start_date:end_date, 'CRUDE OIL'], label='Actual Price', color = 'blue')\n",
    "#ax.plot(short_rolling.loc[start_date:end_date, :].index, short_rolling.loc[start_date:end_date, 'Oil'], label = '20-days SMA', color = 'red')\n",
    "#ax.plot(long_rolling.loc[start_date:end_date, :].index, long_rolling.loc[start_date:end_date, 'Oil'], label = '100-days SMA', color = 'black')\n",
    "\n",
    "\n",
    "ax.legend(loc='best')\n",
    "ax.set_title('Simple Moving Average for 20 and 100 Days')\n",
    "ax.set_xlabel('Obsevation Date')\n",
    "ax.set_ylabel('Price in $')\n",
    "#ax.xaxis.set_major_formatter(my_year_month_fmt)\n",
    "\n",
    "\n",
    " # Creating a custom data formatter.\n"
   ]
  },
  {
   "cell_type": "code",
   "execution_count": 52,
   "metadata": {
    "collapsed": false
   },
   "outputs": [
    {
     "data": {
      "text/html": [
       "<div>\n",
       "<table border=\"1\" class=\"dataframe\">\n",
       "  <thead>\n",
       "    <tr style=\"text-align: right;\">\n",
       "      <th></th>\n",
       "      <th>observation_date</th>\n",
       "      <th>PredictedPrice</th>\n",
       "    </tr>\n",
       "  </thead>\n",
       "  <tbody>\n",
       "    <tr>\n",
       "      <th>0</th>\n",
       "      <td>2019-01-01</td>\n",
       "      <td>19.20</td>\n",
       "    </tr>\n",
       "    <tr>\n",
       "      <th>1</th>\n",
       "      <td>2019-01-02</td>\n",
       "      <td>19.20</td>\n",
       "    </tr>\n",
       "    <tr>\n",
       "      <th>2</th>\n",
       "      <td>2019-01-03</td>\n",
       "      <td>19.28</td>\n",
       "    </tr>\n",
       "    <tr>\n",
       "      <th>3</th>\n",
       "      <td>2019-01-04</td>\n",
       "      <td>19.45</td>\n",
       "    </tr>\n",
       "    <tr>\n",
       "      <th>4</th>\n",
       "      <td>2019-01-05</td>\n",
       "      <td>19.45</td>\n",
       "    </tr>\n",
       "    <tr>\n",
       "      <th>5</th>\n",
       "      <td>2019-01-06</td>\n",
       "      <td>17.65</td>\n",
       "    </tr>\n",
       "    <tr>\n",
       "      <th>6</th>\n",
       "      <td>2019-01-07</td>\n",
       "      <td>18.19</td>\n",
       "    </tr>\n",
       "    <tr>\n",
       "      <th>7</th>\n",
       "      <td>2019-01-08</td>\n",
       "      <td>18.08</td>\n",
       "    </tr>\n",
       "    <tr>\n",
       "      <th>8</th>\n",
       "      <td>2019-01-09</td>\n",
       "      <td>18.80</td>\n",
       "    </tr>\n",
       "    <tr>\n",
       "      <th>9</th>\n",
       "      <td>2019-01-10</td>\n",
       "      <td>19.28</td>\n",
       "    </tr>\n",
       "  </tbody>\n",
       "</table>\n",
       "</div>"
      ],
      "text/plain": [
       "  observation_date  PredictedPrice\n",
       "0       2019-01-01           19.20\n",
       "1       2019-01-02           19.20\n",
       "2       2019-01-03           19.28\n",
       "3       2019-01-04           19.45\n",
       "4       2019-01-05           19.45\n",
       "5       2019-01-06           17.65\n",
       "6       2019-01-07           18.19\n",
       "7       2019-01-08           18.08\n",
       "8       2019-01-09           18.80\n",
       "9       2019-01-10           19.28"
      ]
     },
     "execution_count": 52,
     "metadata": {},
     "output_type": "execute_result"
    }
   ],
   "source": [
    "predData.head(10)"
   ]
  },
  {
   "cell_type": "code",
   "execution_count": 98,
   "metadata": {
    "collapsed": false
   },
   "outputs": [],
   "source": [
    "#predData=pd.read_csv('PredictedCrudePrice.csv')\n",
    "#import datetime\n",
    "#sns.set(style='darkgrid', context='talk', palette='Dark2') # Setting the style of the plots.\n",
    "#my_year_month_fmt = mdates.DateFormatter('%y/%m/%d')\n",
    "#predData['observation_date'] = pd.to_datetime(predData['observation_date'])\n",
    "#predData.index = predData['observation_date']\n",
    "#del predData['observation_date']\n",
    "\n",
    "#start_date = '2019-01-01'\n",
    "#end_date = '2019-12-31'\n",
    "\n",
    "#fig, ax = plt.subplots(figsize=(17,10)) # Setting the size of the plot.\n",
    "\n",
    "\n",
    "#ax.plot(data.loc[start_date:end_date, :].index, data.loc[start_date:end_date, 'SP500'], label='SP500', color = 'green')\n",
    "#ax.plot(predData.loc[start_date:end_date, :].index, predData.loc[start_date:end_date, 'PredictedPrice'], label='Predicted Price', color = 'blue')\n",
    "#ax.plot(short_rolling.loc[start_date:end_date, :].index, short_rolling.loc[start_date:end_date, 'Oil'], label = '20-days SMA', color = 'red')\n",
    "#ax.plot(long_rolling.loc[start_date:end_date, :].index, long_rolling.loc[start_date:end_date, 'Oil'], label = '100-days SMA', color = 'black')\n",
    "\n",
    "\n",
    "#ax.legend(loc='best')\n",
    "#ax.set_title('Simple Moving Average for 20 and 100 Days')\n",
    "#ax.set_xlabel('Obsevation Date')\n",
    "#ax.set_ylabel('Price in $')\n",
    "#ax.xaxis.set_major_formatter(my_year_month_fmt)\n",
    "\n",
    "\n",
    " # Creating a custom data formatter.\n"
   ]
  },
  {
   "cell_type": "code",
   "execution_count": 75,
   "metadata": {
    "collapsed": false
   },
   "outputs": [
    {
     "name": "stdout",
     "output_type": "stream",
     "text": [
      "263.81092122396467\n"
     ]
    },
    {
     "data": {
      "text/plain": [
       "263.8109209368072"
      ]
     },
     "execution_count": 75,
     "metadata": {},
     "output_type": "execute_result"
    }
   ],
   "source": [
    "atplus1 = T*u_tplus1 + Dev_Q\n",
    "print(atplus1)\n",
    "ytplus = Z*atplus1 + Dev_H\n",
    "ytplus\n",
    "#range((date2 - date1).days + 1)"
   ]
  },
  {
   "cell_type": "code",
   "execution_count": null,
   "metadata": {
    "collapsed": true
   },
   "outputs": [],
   "source": []
  },
  {
   "cell_type": "code",
   "execution_count": 76,
   "metadata": {
    "collapsed": true
   },
   "outputs": [],
   "source": [
    "from datetime import datetime\n",
    "from dateutil.parser import parse\n",
    "import pandas as pd"
   ]
  },
  {
   "cell_type": "code",
   "execution_count": 99,
   "metadata": {
    "collapsed": false
   },
   "outputs": [],
   "source": [
    "#Observation_Dates = [1000]\n",
    "\n",
    "#for i in range(len(Keval)):\n",
    " #   Observation_Dates.append(i)\n",
    "  #  Observation_Dates[i] = datetime.strptime(Keval[i], '%d/%m/%Y')"
   ]
  },
  {
   "cell_type": "code",
   "execution_count": 78,
   "metadata": {
    "collapsed": false
   },
   "outputs": [
    {
     "name": "stdout",
     "output_type": "stream",
     "text": [
      "111.35469066810576\n"
     ]
    }
   ],
   "source": [
    "print(price_tplus1)"
   ]
  },
  {
   "cell_type": "code",
   "execution_count": null,
   "metadata": {
    "collapsed": true
   },
   "outputs": [],
   "source": []
  },
  {
   "cell_type": "code",
   "execution_count": null,
   "metadata": {
    "collapsed": false
   },
   "outputs": [],
   "source": [
    "Observation_Dates"
   ]
  },
  {
   "cell_type": "code",
   "execution_count": 79,
   "metadata": {
    "collapsed": false
   },
   "outputs": [
    {
     "name": "stdout",
     "output_type": "stream",
     "text": [
      "262.46175104149137\n"
     ]
    }
   ],
   "source": [
    "print(u_tplus1)"
   ]
  },
  {
   "cell_type": "code",
   "execution_count": 80,
   "metadata": {
    "collapsed": false
   },
   "outputs": [
    {
     "name": "stdout",
     "output_type": "stream",
     "text": [
      "[ -75.55  -75.67  -76.68 ... -114.18 -110.96 -110.96]\n"
     ]
    }
   ],
   "source": [
    "u_smooth=-u_smooth\n",
    "print(u_smooth)"
   ]
  },
  {
   "cell_type": "code",
   "execution_count": 100,
   "metadata": {
    "collapsed": false
   },
   "outputs": [],
   "source": [
    "#fig = plt.figure(figsize=(18,10))\n",
    "#plt.plot(price_tplus1,'y',label = \"price_tplus1\")\n",
    "#plt.plot(u_tplus1,'r',label = \"u_tplus1\")\n",
    "#plt.plot(u_smooth,'b',label = \"u_smooth\")\n",
    "#plt.plot(R,'g',label = \"price\")\n",
    "#plt.show()\n"
   ]
  },
  {
   "cell_type": "code",
   "execution_count": 82,
   "metadata": {
    "collapsed": true
   },
   "outputs": [],
   "source": [
    "params=np.matrix([[2.34],[3.24],[5.12],[6.34]])"
   ]
  },
  {
   "cell_type": "code",
   "execution_count": 83,
   "metadata": {
    "collapsed": false
   },
   "outputs": [
    {
     "data": {
      "text/plain": [
       "(8355.153297452005,\n",
       " [array([[  0.        ,  90.92245189,  91.55010735, ..., 138.41738492,\n",
       "          138.41930767, 134.74272493]]),\n",
       "  array([[[1000.        ,   36.68791932,   35.37526278, ...,\n",
       "             35.37082235,   35.37082235,   35.37082235]]]),\n",
       "  array([[[1543.1753818 ,  602.61762794,  601.33597757, ...,\n",
       "            601.33164203,  601.33164203,  601.33164203]]]),\n",
       "  array([[0.98811896]])])"
      ]
     },
     "execution_count": 83,
     "metadata": {},
     "output_type": "execute_result"
    }
   ],
   "source": [
    "KalmanFilter(R, k, params)"
   ]
  },
  {
   "cell_type": "code",
   "execution_count": 84,
   "metadata": {
    "collapsed": true
   },
   "outputs": [],
   "source": [
    "params_star = [2.34,3.41,4.12,5.22]"
   ]
  },
  {
   "cell_type": "code",
   "execution_count": 85,
   "metadata": {
    "collapsed": false
   },
   "outputs": [
    {
     "data": {
      "text/plain": [
       "array([ 91.49292565,  91.92001281,  92.94940687, ..., 137.94907743,\n",
       "       135.08644468, 134.38519042])"
      ]
     },
     "execution_count": 85,
     "metadata": {},
     "output_type": "execute_result"
    }
   ],
   "source": [
    "u_smooth=KalmanSmoother(R, k, params_star)\n",
    "u_smooth"
   ]
  },
  {
   "cell_type": "code",
   "execution_count": 86,
   "metadata": {
    "collapsed": true
   },
   "outputs": [],
   "source": [
    "import matplotlib.pyplot as plt"
   ]
  },
  {
   "cell_type": "code",
   "execution_count": 87,
   "metadata": {
    "collapsed": false,
    "scrolled": true
   },
   "outputs": [
    {
     "data": {
      "image/png": "[encoded data removed]",
      "text/plain": [
       "<matplotlib.figure.Figure at 0x28c11960630>"
      ]
     },
     "metadata": {},
     "output_type": "display_data"
    }
   ],
   "source": [
    "plt.plot(R)\n",
    "plt.show()"
   ]
  },
  {
   "cell_type": "code",
   "execution_count": 88,
   "metadata": {
    "collapsed": false
   },
   "outputs": [
    {
     "data": {
      "image/png": "[encoded data removed]",
      "text/plain": [
       "<matplotlib.figure.Figure at 0x28c0f24a828>"
      ]
     },
     "metadata": {},
     "output_type": "display_data"
    }
   ],
   "source": [
    "_, varargout = KalmanFilter(R, k, params)\n",
    "u_update, P_update, P_predict, T = varargout\n",
    "P_predict = np.squeeze(np.asarray(P_predict))\n",
    "plt.plot(P_predict)\n",
    "plt.show()"
   ]
  },
  {
   "cell_type": "code",
   "execution_count": 89,
   "metadata": {
    "collapsed": false
   },
   "outputs": [
    {
     "data": {
      "image/png": "[encoded data removed]",
      "text/plain": [
       "<matplotlib.figure.Figure at 0x28c13bd0518>"
      ]
     },
     "metadata": {},
     "output_type": "display_data"
    }
   ],
   "source": [
    "plt.plot(u_smooth)\n",
    "plt.show()"
   ]
  },
  {
   "cell_type": "code",
   "execution_count": null,
   "metadata": {
    "collapsed": true
   },
   "outputs": [],
   "source": []
  }
 ],
 "metadata": {
  "kernelspec": {
   "display_name": "Python 3",
   "language": "python",
   "name": "python3"
  },
  "language_info": {
   "codemirror_mode": {
    "name": "ipython",
    "version": 3
   },
   "file_extension": ".py",
   "mimetype": "text/x-python",
   "name": "python",
   "nbconvert_exporter": "python",
   "pygments_lexer": "ipython3",
   "version": "3.6.0"
  }
 },
 "nbformat": 4,
 "nbformat_minor": 2
}
